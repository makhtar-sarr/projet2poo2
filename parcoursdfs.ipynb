{
 "cells": [
  {
   "cell_type": "code",
   "execution_count": null,
   "metadata": {},
   "outputs": [],
   "source": [
    "'''\n",
    "Implémenter le parcours en profondeur non recursif entre deux noeuds\n",
    "Prend en parametre:\n",
    "- un graphe\n",
    "- un noeud source\n",
    "- un noeud destination\n",
    "Output:\n",
    "une liste contenant les noms des noeuds explorés pour aller du noeud source ve\n",
    "rs le noeud destination\n",
    "Vous completerez certaines parties du code\n",
    "'''\n",
    "''' Code realiser par Makhtar SARR '''\n",
    "\n",
    "def parcoursDFS(myGraphe, noeudSRC, noeudDST):\n",
    "    \"\"\"Trouver un parcours DFS entre noeudSRC et noeudDST\"\"\"\n",
    "    if noeudDST not in myGraphe:\n",
    "        print(noeudDST)\n",
    "        myGraphe.add(noeudDST)\n",
    "        for neighbour in noeudSRC[noeudDST]:\n",
    "            parcoursDFS(myGraphe, noeudSRC, neighbour)\n",
    "\n",
    "\n",
    "def parcoursBFS(myGraphe, noeudSRC, noeudDST):\n",
    "    queue = []\n",
    "    myGraphe.append(noeudDST)\n",
    "    queue.append(noeudDST)\n",
    "\n",
    "    while queue:\n",
    "        sommet = queue.pop(0)\n",
    "        print(sommet, end=\" \")\n",
    "        for neighbour in noeudSRC[sommet]:\n",
    "            if neighbour not in myGraphe:\n",
    "                myGraphe.append(neighbour)\n",
    "                queue.append(neighbour)\n"
   ]
  }
 ],
 "metadata": {
  "language_info": {
   "name": "python"
  },
  "orig_nbformat": 4
 },
 "nbformat": 4,
 "nbformat_minor": 2
}
